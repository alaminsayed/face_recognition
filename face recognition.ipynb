{
 "cells": [
  {
   "cell_type": "code",
   "execution_count": 3,
   "id": "2d187a7a-edb8-49cc-9a94-af01255305fd",
   "metadata": {},
   "outputs": [
    {
     "name": "stdout",
     "output_type": "stream",
     "text": [
      "Processing g:\\machine learning\\computer vision\\face recognition\\dlib-19.24.99-cp312-cp312-win_amd64.whl\n",
      "Installing collected packages: dlib\n",
      "Successfully installed dlib-19.24.99\n"
     ]
    }
   ],
   "source": [
    "!pip install dlib-19.24.99-cp312-cp312-win_amd64.whl\n"
   ]
  },
  {
   "cell_type": "code",
   "execution_count": 4,
   "id": "9970df16-bc7b-456e-b097-9e5bb98c0c64",
   "metadata": {},
   "outputs": [
    {
     "name": "stdout",
     "output_type": "stream",
     "text": [
      "Collecting face_recognition\n",
      "  Using cached face_recognition-1.3.0-py2.py3-none-any.whl.metadata (21 kB)\n",
      "Collecting face-recognition-models>=0.3.0 (from face_recognition)\n",
      "  Using cached face_recognition_models-0.3.0-py2.py3-none-any.whl\n",
      "Requirement already satisfied: Click>=6.0 in c:\\users\\computer solution\\anaconda3\\lib\\site-packages (from face_recognition) (8.1.7)\n",
      "Requirement already satisfied: dlib>=19.7 in c:\\users\\computer solution\\anaconda3\\lib\\site-packages (from face_recognition) (19.24.99)\n",
      "Requirement already satisfied: numpy in c:\\users\\computer solution\\anaconda3\\lib\\site-packages (from face_recognition) (1.26.4)\n",
      "Requirement already satisfied: Pillow in c:\\users\\computer solution\\anaconda3\\lib\\site-packages (from face_recognition) (10.4.0)\n",
      "Requirement already satisfied: colorama in c:\\users\\computer solution\\anaconda3\\lib\\site-packages (from Click>=6.0->face_recognition) (0.4.6)\n",
      "Using cached face_recognition-1.3.0-py2.py3-none-any.whl (15 kB)\n",
      "Installing collected packages: face-recognition-models, face_recognition\n",
      "Successfully installed face-recognition-models-0.3.0 face_recognition-1.3.0\n"
     ]
    }
   ],
   "source": [
    "!pip install face_recognition\n"
   ]
  },
  {
   "cell_type": "code",
   "execution_count": 5,
   "id": "76c9a99f-d867-4a39-90ea-6cb9d6dbbf79",
   "metadata": {},
   "outputs": [],
   "source": [
    "import tkinter as tk\n",
    "import utils\n",
    "import cv2\n",
    "from PIL import Image, ImageTk\n",
    "import pickle\n",
    "import os\n",
    "import face_recognition\n",
    "import subprocess\n",
    "\n",
    "class App:\n",
    "    def __init__(self):\n",
    "        self.main_window = tk.Tk() # initializing a window\n",
    "        self.main_window.geometry(\"1200x520+350+100\") # size of the window\n",
    "\n",
    "\n",
    "        self.login_button_main_window= utils.get_button(self.main_window,'login','green',self.login)\n",
    "        self.login_button_main_window.place(x=750, y=300)\n",
    "        self.register_new_user_button_main_window= utils.get_button(self.main_window,'register new user','red',self.register_new_user,fg='black')\n",
    "        self.register_new_user_button_main_window.place(x=750, y=400)\n",
    "        self.webcam_label = utils.get_img_label(self.main_window)\n",
    "        self.webcam_label.place(x=10, y=0, width=700, height=500)\n",
    "\n",
    "        self.add_webcam(self.webcam_label)\n",
    "        self.db_dir = './db'\n",
    "        if not os.path.exists(self.db_dir):\n",
    "            os.mkdir(self.db_dir)\n",
    "\n",
    "\n",
    "    def add_webcam(self, label):\n",
    "        if 'cap' not in self.__dict__:\n",
    "            self.cap = cv2.VideoCapture(0)\n",
    "\n",
    "        self._label = label\n",
    "        self.process_webcam()\n",
    "\n",
    "    def process_webcam(self):\n",
    "        ret, frame = self.cap.read()\n",
    "\n",
    "        self.most_recent_capture_arr = frame\n",
    "        img_ = cv2.cvtColor(self.most_recent_capture_arr, cv2.COLOR_BGR2RGB)\n",
    "        self.most_recent_capture_pil = Image.fromarray(img_)\n",
    "        imgtk = ImageTk.PhotoImage(image=self.most_recent_capture_pil)\n",
    "        self._label.imgtk = imgtk\n",
    "        self._label.configure(image=imgtk)\n",
    "\n",
    "        self._label.after(20, self.process_webcam)\n",
    "\n",
    "    def login(self):\n",
    "        unknown_img_path='./.tmp.jpg'\n",
    "        cv2.imwrite(unknown_img_path,self.most_recent_capture_arr)\n",
    "        output= subprocess.check_output(['face_recognition',self.db_dir,unknown_img_path],text=True)\n",
    "        name = output.split('.')[1][:-3]\n",
    "        if name in ['unknown_person', 'no_persons_found']:\n",
    "            utils.msg_box('Ups...', 'Unknown user. Please register new user or try again.')\n",
    "        else:\n",
    "            utils.msg_box('Welcome back !', 'Welcome, {}.'.format(name))\n",
    "        os.remove(unknown_img_path)\n",
    "\n",
    "    def register_new_user(self):\n",
    "        self.register_new_user_window = tk.Toplevel(self.main_window)\n",
    "        self.register_new_user_window.geometry(\"1200x520+370+120\")\n",
    "\n",
    "        self.accept_button_register_new_user_window = utils.get_button(self.register_new_user_window, 'Accept', 'green', self.accept_register_new_user)\n",
    "        self.accept_button_register_new_user_window.place(x=750, y=300)\n",
    "\n",
    "        self.try_again_button_register_new_user_window = utils.get_button(self.register_new_user_window, 'Try again', 'red', self.try_again_register_new_user)\n",
    "        self.try_again_button_register_new_user_window.place(x=750, y=400)\n",
    "\n",
    "        self.capture_label = utils.get_img_label(self.register_new_user_window)\n",
    "        self.capture_label.place(x=10, y=0, width=700, height=500)\n",
    "\n",
    "        self.add_img_to_label(self.capture_label)\n",
    "\n",
    "        self.entry_text_register_new_user = utils.get_entry_text(self.register_new_user_window)\n",
    "        self.entry_text_register_new_user.place(x=750, y=150)\n",
    "        \n",
    "        self.text_label_register_new_user = utils.get_text_label(self.register_new_user_window, 'Please, input username:')\n",
    "        self.text_label_register_new_user.place(x=750, y=70)\n",
    "\n",
    "    def try_again_register_new_user(self):\n",
    "        self.register_new_user_window.destroy()\n",
    "    \n",
    "    def add_img_to_label(self, label):\n",
    "        imgtk = ImageTk.PhotoImage(image=self.most_recent_capture_pil)\n",
    "        label.imgtk = imgtk\n",
    "        label.configure(image=imgtk)\n",
    "        self.register_new_user_capture = self.most_recent_capture_arr.copy()\n",
    "    \n",
    "    def start(self):\n",
    "        self.main_window.mainloop()# starting or defining the window\n",
    "    \n",
    "    def accept_register_new_user(self):\n",
    "        name = self.entry_text_register_new_user.get(1.0, \"end-1c\")\n",
    "        cv2.imwrite(os.path.join(self.db_dir, '{}.jpg'.format(name)),self.register_new_user_capture)\n",
    "        utils.msg_box('Success!', 'User was registered successfully !')\n",
    "        self.register_new_user_window.destroy()\n",
    "\n",
    "\n",
    "if __name__==\"__main__\":\n",
    "    app=App()\n",
    "    app.start()"
   ]
  },
  {
   "cell_type": "code",
   "execution_count": 7,
   "id": "e9890788-d56f-411a-8d93-86b98bb46ff1",
   "metadata": {},
   "outputs": [
    {
     "name": "stderr",
     "output_type": "stream",
     "text": [
      "'git' is not recognized as an internal or external command,\n",
      "operable program or batch file.\n"
     ]
    }
   ],
   "source": [
    "!git init"
   ]
  }
 ],
 "metadata": {
  "kernelspec": {
   "display_name": "Python 3 (ipykernel)",
   "language": "python",
   "name": "python3"
  },
  "language_info": {
   "codemirror_mode": {
    "name": "ipython",
    "version": 3
   },
   "file_extension": ".py",
   "mimetype": "text/x-python",
   "name": "python",
   "nbconvert_exporter": "python",
   "pygments_lexer": "ipython3",
   "version": "3.12.3"
  }
 },
 "nbformat": 4,
 "nbformat_minor": 5
}
